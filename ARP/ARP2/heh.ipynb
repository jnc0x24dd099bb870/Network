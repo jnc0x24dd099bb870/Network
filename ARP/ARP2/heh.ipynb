{
 "cells": [
  {
   "cell_type": "code",
   "execution_count": 86,
   "metadata": {},
   "outputs": [
    {
     "name": "stdout",
     "output_type": "stream",
     "text": [
      "insert master: \n"
     ]
    },
    {
     "data": {
      "application/vnd.jupyter.widget-view+json": {
       "model_id": "2a21332824cf4841a0067219b5fb51c3",
       "version_major": 2,
       "version_minor": 0
      },
      "text/plain": [
       "Text(value='')"
      ]
     },
     "metadata": {},
     "output_type": "display_data"
    },
    {
     "name": "stdout",
     "output_type": "stream",
     "text": [
      "insert minion2: \n"
     ]
    },
    {
     "data": {
      "application/vnd.jupyter.widget-view+json": {
       "model_id": "c27226f7a3a243199a871b036896ed70",
       "version_major": 2,
       "version_minor": 0
      },
      "text/plain": [
       "Text(value='')"
      ]
     },
     "metadata": {},
     "output_type": "display_data"
    },
    {
     "name": "stdout",
     "output_type": "stream",
     "text": [
      "insert bridge: \n"
     ]
    },
    {
     "data": {
      "application/vnd.jupyter.widget-view+json": {
       "model_id": "08528932f48c4f4098167a3aaa04b62e",
       "version_major": 2,
       "version_minor": 0
      },
      "text/plain": [
       "Text(value='')"
      ]
     },
     "metadata": {},
     "output_type": "display_data"
    },
    {
     "name": "stdout",
     "output_type": "stream",
     "text": [
      "insert containerIPstatic: \n"
     ]
    },
    {
     "data": {
      "application/vnd.jupyter.widget-view+json": {
       "model_id": "9b1fc48af35c440e877737f017d54211",
       "version_major": 2,
       "version_minor": 0
      },
      "text/plain": [
       "Text(value='')"
      ]
     },
     "metadata": {},
     "output_type": "display_data"
    },
    {
     "name": "stdout",
     "output_type": "stream",
     "text": [
      "insert containerimage: \n"
     ]
    },
    {
     "data": {
      "application/vnd.jupyter.widget-view+json": {
       "model_id": "2bf0fcd1dbf94ee6a7f7ba4634b8a9da",
       "version_major": 2,
       "version_minor": 0
      },
      "text/plain": [
       "Text(value='')"
      ]
     },
     "metadata": {},
     "output_type": "display_data"
    },
    {
     "name": "stdout",
     "output_type": "stream",
     "text": [
      "insert tagimage: \n"
     ]
    },
    {
     "data": {
      "application/vnd.jupyter.widget-view+json": {
       "model_id": "c68281ba1117415d827a7a073b169ac8",
       "version_major": 2,
       "version_minor": 0
      },
      "text/plain": [
       "Text(value='')"
      ]
     },
     "metadata": {},
     "output_type": "display_data"
    },
    {
     "name": "stdout",
     "output_type": "stream",
     "text": [
      "insert service: \n"
     ]
    },
    {
     "data": {
      "application/vnd.jupyter.widget-view+json": {
       "model_id": "cddd79008f0c4daabfe41592a5c2216e",
       "version_major": 2,
       "version_minor": 0
      },
      "text/plain": [
       "Text(value='')"
      ]
     },
     "metadata": {},
     "output_type": "display_data"
    },
    {
     "name": "stdout",
     "output_type": "stream",
     "text": [
      "insert namecontainer: \n"
     ]
    },
    {
     "data": {
      "application/vnd.jupyter.widget-view+json": {
       "model_id": "bd71773adafa4cd884a2b622614bfe8a",
       "version_major": 2,
       "version_minor": 0
      },
      "text/plain": [
       "Text(value='')"
      ]
     },
     "metadata": {},
     "output_type": "display_data"
    },
    {
     "name": "stdout",
     "output_type": "stream",
     "text": [
      "insert porthost: \n"
     ]
    },
    {
     "data": {
      "application/vnd.jupyter.widget-view+json": {
       "model_id": "3ff4f009e0904612988d8b64c15c6be9",
       "version_major": 2,
       "version_minor": 0
      },
      "text/plain": [
       "Text(value='')"
      ]
     },
     "metadata": {},
     "output_type": "display_data"
    },
    {
     "name": "stdout",
     "output_type": "stream",
     "text": [
      "insert portcontainer: \n"
     ]
    },
    {
     "data": {
      "application/vnd.jupyter.widget-view+json": {
       "model_id": "29126cc0c16f4d0ab02e6dfecb00640f",
       "version_major": 2,
       "version_minor": 0
      },
      "text/plain": [
       "Text(value='')"
      ]
     },
     "metadata": {},
     "output_type": "display_data"
    },
    {
     "name": "stdout",
     "output_type": "stream",
     "text": [
      "insert amountgb: \n"
     ]
    },
    {
     "data": {
      "application/vnd.jupyter.widget-view+json": {
       "model_id": "6cc8d52034f64f2fa6a6d693b2a6fec0",
       "version_major": 2,
       "version_minor": 0
      },
      "text/plain": [
       "Text(value='')"
      ]
     },
     "metadata": {},
     "output_type": "display_data"
    },
    {
     "name": "stdout",
     "output_type": "stream",
     "text": [
      "\n",
      "\n",
      "\n"
     ]
    },
    {
     "data": {
      "application/vnd.jupyter.widget-view+json": {
       "model_id": "c70ed3be6fb34a57af63c09e27f6abae",
       "version_major": 2,
       "version_minor": 0
      },
      "text/plain": [
       "Button(description='Ship it!', style=ButtonStyle())"
      ]
     },
     "metadata": {},
     "output_type": "display_data"
    },
    {
     "name": "stdout",
     "output_type": "stream",
     "text": [
      " master: dev-h2o01\n",
      " minion2: 10.101.12.199\n",
      " bridge: test_bridge\n",
      "containerIPstatic 172.19.0.21\n",
      "containerimage zookipian\n",
      "tagimage h21\n",
      "service zookeeper\n",
      "namecontainer zo3zo3\n",
      "porthost 2184\n",
      "portcontainer 2181\n",
      "amountgb 1G\n",
      " mysql -uroot  -pabc123 -e \"use containers1;    insert into containers1 value ('dev-h2o01', '10.101.12.199', 'test_bridge', '172.19.0.21',    'zookipian', 'h21', 'zookeeper', 'zo3zo3', '2184',   '2181', '1G');\" \n"
     ]
    }
   ],
   "source": [
    "import os, subprocess\n",
    "import docker\n",
    "from ipywidgets import widgets \n",
    "from IPython.display import display\n",
    "import datetime\n",
    "\n",
    "print(\"insert master: \")\n",
    "\n",
    "text = widgets.Text()\n",
    "display(text)\n",
    "def send_master(a):\n",
    "    print(\" master:\", text.value)\n",
    "\n",
    "\n",
    "print(\"insert minion2: \")\n",
    "\n",
    "\n",
    "text1 = widgets.Text()\n",
    "display(text1)\n",
    "def send_minion(b):\n",
    "    print(\" minion2:\", text1.value)\n",
    "    \n",
    "\n",
    "print(\"insert bridge: \")\n",
    "\n",
    "text2 = widgets.Text()\n",
    "display(text2)\n",
    "def send_bridge(c):\n",
    "    print(\" bridge:\", text2.value)\n",
    "\n",
    "    \n",
    "print(\"insert containerIPstatic: \")\n",
    "\n",
    "text3 = widgets.Text()\n",
    "display(text3)\n",
    "def send_ipstatic(d):\n",
    "    print(\"containerIPstatic\", text3.value)\n",
    "\n",
    "print(\"insert containerimage: \")\n",
    "\n",
    "text4 = widgets.Text()\n",
    "display(text4)\n",
    "def send_containerimage(d):\n",
    "    print(\"containerimage\", text4.value)\n",
    "    \n",
    "\n",
    "print(\"insert tagimage: \")\n",
    "\n",
    "text5 = widgets.Text()\n",
    "display(text5)\n",
    "def send_tagimage(e):\n",
    "    print(\"tagimage\", text5.value)\n",
    "\n",
    "print(\"insert service: \") \n",
    "\n",
    "text6 = widgets.Text()\n",
    "display(text6)\n",
    "def send_service(f):\n",
    "    print(\"service\", text6.value)\n",
    "    \n",
    "print(\"insert namecontainer: \") \n",
    "\n",
    "text7 = widgets.Text()\n",
    "display(text7)\n",
    "def send_namecontainer(g):\n",
    "    print(\"namecontainer\", text7.value)\n",
    "\n",
    "print(\"insert porthost: \") \n",
    "\n",
    "text8 = widgets.Text()\n",
    "display(text8)\n",
    "def send_porthost(h):\n",
    "    print(\"porthost\", text8.value)\n",
    "\n",
    "print(\"insert portcontainer: \") \n",
    "\n",
    "text9 = widgets.Text()\n",
    "display(text9)\n",
    "def send_portcontainer(i):\n",
    "    print(\"portcontainer\", text9.value)\n",
    "\n",
    "    \n",
    "print(\"insert amountgb: \") \n",
    "\n",
    "text10 = widgets.Text()\n",
    "display(text10)\n",
    "def send_amount(j):\n",
    "    print(\"amountgb\", text10.value)\n",
    "    \n",
    "text.on_submit(send_master)\n",
    "text1.on_submit(send_minion)\n",
    "text2.on_submit(send_bridge)\n",
    "text3.on_submit(send_ipstatic)\n",
    "text4.on_submit(send_containerimage)\n",
    "text5.on_submit(send_tagimage)\n",
    "text6.on_submit(send_service)\n",
    "text7.on_submit(send_namecontainer)\n",
    "text8.on_submit(send_porthost)\n",
    "text9.on_submit(send_portcontainer)\n",
    "text10.on_submit(send_amount)\n",
    "\n",
    "\n",
    "client = docker.from_env()\n",
    "\n",
    "button = widgets.Button(description=\"Ship it!\")\n",
    "print(\"\\n\\n\")\n",
    "display(button)\n",
    "\n",
    "#create new json file\n",
    "\n",
    "    #just in case, check what you sent\n",
    "    \n",
    "dd = datetime.datetime.now().strftime(\"%Y%m%d-%H%M%S\")\n",
    "    \n",
    "file = 'deploycontainer.json'\n",
    "ff = dd+\"-\"+file\n",
    "\n",
    "#this function does (many) things when clicking the button \"Ship it!\"...\n",
    "\n",
    "def run_query(c):\n",
    "    dba_container=client.containers.get('fb554a3f8e6b')\n",
    "    query = ' mysql -uroot  -pabc123 -e \"use containers1; \\\n",
    "   insert into containers1 value (\\'{0}\\', \\'{1}\\', \\'{2}\\', \\'{3}\\', \\\n",
    "   \\'{4}\\', \\'{5}\\', \\'{6}\\', \\'{7}\\', \\'{8}\\',\\\n",
    "   \\'{9}\\', \\'{10}\\');\" '.format( text.value , text1.value , text2.value, text3.value, text4.value, text5.value,text6.value, text7.value, text8.value, text9.value, text10.value)\n",
    "    \n",
    "\n",
    "    #just in case, check how the query will look like... \n",
    "    print (query)\n",
    "    \n",
    "    dba_container.exec_run(query)\n",
    "    \n",
    "    ## when you deploy, a different name json file must be created\n",
    "    ## >>> adding a timestamp to new file\n",
    "    \n",
    "    ## /var/lib/mysql-files/configcontainer3.json -- replace it with date when creted..for instance:\n",
    "    ## 20181004-114143-deploycontainer.json\n",
    "    \n",
    "    #extract JSON configuration file for creating the next container\n",
    "    query2 = 'mysql  -uroot -pabc123 -e  \"use containers1 ; \\\n",
    "    SELECT JSON_OBJECT(\\'master\\', master, \\\n",
    "    \\'minion2\\',minion2,  \\\n",
    "    \\'bridge\\', bridge, \\\n",
    "    \\'containerIPstatic\\', containerIPstatic, \\\n",
    "    \\'containerimage\\', containerimage, \\\n",
    "    \\'tagimage\\', tagimage, \\\n",
    "    \\'service\\', service, \\\n",
    "    \\'namecontainer\\', namecontainer, \\\n",
    "    \\'porthost\\', porthost, \\\n",
    "    \\'portcontainer\\', portcontainer, \\\n",
    "    \\'amountgb\\', amountgb) INTO OUTFILE \\'/var/lib/mysql-files/{0}\\' \\\n",
    "     from containers1 where namecontainer=\\'{1}\\'\" '.format(ff, text7.value)\n",
    "\n",
    "    dba_container.exec_run(query2)\n",
    "    \n",
    "    \n",
    "button.on_click(run_query)\n"
   ]
  },
  {
   "cell_type": "code",
   "execution_count": 111,
   "metadata": {},
   "outputs": [
    {
     "name": "stdout",
     "output_type": "stream",
     "text": [
      "{\"bridge\": \"test_bridge\", \"master\": \"dev-h2o01\", \"minion2\": \"10.101.12.199\", \"service\": \"zookeeper\", \"amountgb\": \"1G\", \"porthost\": \"2184\", \"tagimage\": \"h21\", \"namecontainer\": \"zo3zo3\", \"portcontainer\": \"2181\", \"containerimage\": \"zookipian\", \"containerIPstatic\": \"172.19.0.21\"}\r\n"
     ]
    }
   ],
   "source": [
    "### check if json configuration file contains all inserted values\n",
    "### after clicking the first button\n",
    "\n",
    "! docker exec fb554a3f8e6b sudo cat /var/lib/mysql-files/20181004-155454-deploycontainer.json"
   ]
  },
  {
   "cell_type": "code",
   "execution_count": 89,
   "metadata": {},
   "outputs": [
    {
     "name": "stdout",
     "output_type": "stream",
     "text": [
      "\n",
      "\n",
      "\n"
     ]
    },
    {
     "data": {
      "application/vnd.jupyter.widget-view+json": {
       "model_id": "49c8ebb385814d0aa352d3bcf9c7fe0e",
       "version_major": 2,
       "version_minor": 0
      },
      "text/plain": [
       "Button(description='Deploy!', style=ButtonStyle())"
      ]
     },
     "metadata": {},
     "output_type": "display_data"
    },
    {
     "name": "stdout",
     "output_type": "stream",
     "text": [
      "/opt/local_test/20181004-155454-deploycontainer.json\n",
      "tananaaaa ... Batman! \n",
      "\n",
      "b'2184\\nzookeeper\\n2181\\nzo3zo3\\nzookipian\\n172.19.0.21\\n10.101.12.199\\n\\nPLAY [copy local Dockerfile to remote \\'10.101.12.199\\'] *************************\\n\\nTASK [Gathering Facts] *********************************************************\\nok: [10.101.12.199]\\n\\nTASK [copy] ********************************************************************\\nok: [10.101.12.199]\\n\\nPLAY [copy blueprint create_image into file to be modified] ********************\\n\\nTASK [Gathering Facts] *********************************************************\\nok: [10.101.12.181]\\n\\nTASK [copy] ********************************************************************\\nchanged: [10.101.12.181]\\n\\nPLAY [replace container image locally to build the image] **********************\\n\\nTASK [Gathering Facts] *********************************************************\\nok: [10.101.12.181]\\n\\nTASK [replace] *****************************************************************\\nchanged: [10.101.12.181]\\n\\nPLAY [replace tag image locally to build the image] ****************************\\n\\nTASK [Gathering Facts] *********************************************************\\nok: [10.101.12.181]\\n\\nTASK [replace] *****************************************************************\\nchanged: [10.101.12.181]\\n\\nPLAY [replace service in path to build the image] ******************************\\n\\nTASK [Gathering Facts] *********************************************************\\nok: [10.101.12.181]\\n\\nTASK [replace] *****************************************************************\\nchanged: [10.101.12.181]\\n\\nPLAY [copy modified create_image.py to remote \\'10.101.12.199\\'] *****************\\n\\nTASK [Gathering Facts] *********************************************************\\nok: [10.101.12.199]\\n\\nTASK [copy] ********************************************************************\\nchanged: [10.101.12.199]\\n\\nPLAY [build the image on remote zookeeper host] ********************************\\n\\nTASK [Gathering Facts] *********************************************************\\nok: [10.101.12.199]\\n\\nTASK [script] ******************************************************************\\nchanged: [10.101.12.199]\\n\\nTASK [debug] *******************************************************************\\nok: [10.101.12.199] => {\\n    \"msg\": \"\"\\n}\\n\\nPLAY [copy blueprint_create_container into file to be modified and used] *******\\n\\nTASK [Gathering Facts] *********************************************************\\nok: [10.101.12.181]\\n\\nTASK [copy] ********************************************************************\\nchanged: [10.101.12.181]\\n\\nPLAY [replace container image locally to build the image] **********************\\n\\nTASK [Gathering Facts] *********************************************************\\nok: [10.101.12.181]\\n\\nTASK [replace] *****************************************************************\\nchanged: [10.101.12.181]\\n\\nPLAY [replace container image locally to build the image] **********************\\n\\nTASK [Gathering Facts] *********************************************************\\nok: [10.101.12.181]\\n\\nTASK [replace] *****************************************************************\\nchanged: [10.101.12.181]\\n\\nPLAY [replace container image locally to build the image] **********************\\n\\nTASK [Gathering Facts] *********************************************************\\nok: [10.101.12.181]\\n\\nTASK [replace] *****************************************************************\\nchanged: [10.101.12.181]\\n\\nPLAY [replace container image locally to build the image] **********************\\n\\nTASK [Gathering Facts] *********************************************************\\nok: [10.101.12.181]\\n\\nTASK [replace] *****************************************************************\\nchanged: [10.101.12.181]\\n\\nPLAY [replace container image locally to build the image] **********************\\n\\nTASK [Gathering Facts] *********************************************************\\nok: [10.101.12.181]\\n\\nTASK [replace] *****************************************************************\\nchanged: [10.101.12.181]\\n\\nPLAY [replace container image locally to build the image] **********************\\n\\nTASK [Gathering Facts] *********************************************************\\nok: [10.101.12.181]\\n\\nTASK [replace] *****************************************************************\\nchanged: [10.101.12.181]\\n\\nPLAY [replace container image locally to build the image] **********************\\n\\nTASK [Gathering Facts] *********************************************************\\nok: [10.101.12.181]\\n\\nTASK [replace] *****************************************************************\\nchanged: [10.101.12.181]\\n\\nPLAY [copy modified create_image.py to remote \\'10.101.12.199\\'] *****************\\n\\nTASK [Gathering Facts] *********************************************************\\nok: [10.101.12.199]\\n\\nTASK [copy] ********************************************************************\\nchanged: [10.101.12.199]\\n\\nPLAY [build the image on remote zookeeper host] ********************************\\n\\nTASK [Gathering Facts] *********************************************************\\nok: [10.101.12.199]\\n\\nTASK [script] ******************************************************************\\nchanged: [10.101.12.199]\\n\\nTASK [debug] *******************************************************************\\nok: [10.101.12.199] => {\\n    \"msg\": \"\"\\n}\\n'\n"
     ]
    }
   ],
   "source": [
    "######                            \n",
    "###### deploying the container with a single click on button 'Deploy it!'\n",
    "######\n",
    "\n",
    "button = widgets.Button(description=\"Deploy!\")\n",
    "print(\"\\n\\n\")\n",
    "display(button)\n",
    "\n",
    "\n",
    "# Grab the good json configuration file!\n",
    "# there are many json files on mysql container, under /var/lib/mysql-files :) \n",
    "\n",
    "comm=\"docker cp fb554a3f8e6b:/var/lib/mysql-files/{0} /opt/local_test/\".format(ff)\n",
    "os.system(comm)\n",
    "\n",
    "fif=\"/opt/local_test/{0}\".format(ff)\n",
    "\n",
    "#just in case, check if it's the right file before pressing Deploy! button\n",
    "print(fif)\n",
    "\n",
    "# easily deployed\n",
    "# the button widget 'Deploy!' simply runs the python code for ansible tasks\n",
    "    \n",
    "def deploy(c):\n",
    "    \n",
    "    print(\"tananaaaa ... Batman! \\n\")\n",
    " \n",
    "    # yoy2.py takes the new json configuration as argument\n",
    "   \n",
    "    comm = '/usr/bin/python3 /home/tron/hehe/yoy2.py {0}'.format(fif)\n",
    "\n",
    "    out = subprocess.check_output(comm, shell=True)\n",
    "    \n",
    "    # to show the status of all tasks\n",
    "    print(out)\n",
    "    \n",
    "\n",
    "button.on_click(deploy)"
   ]
  },
  {
   "cell_type": "code",
   "execution_count": 115,
   "metadata": {},
   "outputs": [],
   "source": [
    "##############"
   ]
  },
  {
   "cell_type": "code",
   "execution_count": 112,
   "metadata": {},
   "outputs": [
    {
     "name": "stdout",
     "output_type": "stream",
     "text": [
      "20181004-155454-deploycontainer.json\n"
     ]
    }
   ],
   "source": [
    "#### b3llow steps are just for fast checking #####\n",
    "\n",
    "#check the name of new json configuration file for deploying container\n",
    "#with timestamp, of course!\n",
    "\n",
    "print(ff)\n",
    "\n"
   ]
  },
  {
   "cell_type": "code",
   "execution_count": 113,
   "metadata": {},
   "outputs": [
    {
     "name": "stdout",
     "output_type": "stream",
     "text": [
      "total 120\r\n",
      "-rw-rw-rw- 1 mysql mysql 129 Oct  2 17:02 export.json\r\n",
      "-rw-rw-rw- 1 mysql mysql  56 Oct  2 17:04 kafkaexport.json\r\n",
      "-rw-rw-rw- 1 mysql mysql  55 Oct  2 17:05 kafkaexport1.json\r\n",
      "-rw-rw-rw- 1 mysql mysql  55 Oct  2 17:08 kafkaexport11.json\r\n",
      "-rw-rw-rw- 1 mysql mysql  55 Oct  2 17:09 kafkaexport22.json\r\n",
      "-rw-rw-rw- 1 mysql mysql  54 Oct  2 17:12 zooexport22.json\r\n",
      "-rw-rw-rw- 1 mysql mysql  64 Oct  2 17:13 kafkaexport33.json\r\n",
      "-rw-rw-rw- 1 mysql mysql  59 Oct  2 17:14 zooexport33.json\r\n",
      "-rw-rw-rw- 1 mysql mysql   0 Oct  2 19:10 kafkaexport44.json\r\n",
      "-rw-rw-rw- 1 mysql mysql   0 Oct  2 19:12 kafkaexport54.json\r\n",
      "-rw-rw-rw- 1 mysql mysql   0 Oct  2 19:14 kafkaexport58.json\r\n",
      "-rw-rw-rw- 1 mysql mysql  60 Oct  2 19:14 kafkaexport59.json\r\n",
      "-rw-rw-rw- 1 mysql mysql  60 Oct  2 19:34 kafkaexport29.json\r\n",
      "-rw-rw-rw- 1 mysql mysql  60 Oct  2 19:50 kafkaexport67.json\r\n",
      "-rw-rw-rw- 1 mysql mysql 127 Oct  2 20:30 zooex.json\r\n",
      "-rw-rw-rw- 1 mysql mysql  63 Oct  2 20:33 zooex1.json\r\n",
      "-rw-rw-rw- 1 mysql mysql   0 Oct  2 20:42 conf_z_file\r\n",
      "-rw-rw-rw- 1 mysql mysql  63 Oct  2 20:48 zooexport78.json\r\n",
      "-rw-rw-rw- 1 mysql mysql 243 Oct  3 16:55 configcontainer.json\r\n",
      "-rw-rw-rw- 1 mysql mysql 279 Oct  3 17:06 configcontainer1.json\r\n",
      "-rw-rw-rw- 1 mysql mysql 279 Oct  3 17:07 configcontainer2.json\r\n",
      "-rw-rw-rw- 1 mysql mysql 280 Oct  3 17:25 configcontainer3.json\r\n",
      "-rw-rw-rw- 1 mysql mysql 273 Oct  4 12:15 20181004-121341-deploycontainer.json\r\n",
      "-rw-rw-rw- 1 mysql mysql 546 Oct  4 12:26 20181004-122503-deploycontainer.json\r\n",
      "-rw-rw-rw- 1 mysql mysql 275 Oct  4 12:31 20181004-123120-deploycontainer.json\r\n",
      "-rw-rw-rw- 1 mysql mysql 276 Oct  4 13:08 20181004-130808-deploycontainer.json\r\n",
      "-rw-rw-rw- 1 mysql mysql 269 Oct  4 13:09 20181004-130916-deploycontainer.json\r\n",
      "-rw-rw-rw- 1 mysql mysql 229 Oct  4 13:15 20181004-131517-deploycontainer.json\r\n",
      "-rw-rw-rw- 1 mysql mysql 458 Oct  4 13:15 20181004-131557-deploycontainer.json\r\n",
      "-rw-rw-rw- 1 mysql mysql 218 Oct  4 13:19 20181004-131829-deploycontainer.json\r\n",
      "-rw-rw-rw- 1 mysql mysql 272 Oct  4 13:34 20181004-133246-deploycontainer.json\r\n",
      "-rw-rw-rw- 1 mysql mysql 272 Oct  4 14:07 20181004-140600-deploycontainer.json\r\n",
      "-rw-rw-rw- 1 mysql mysql 275 Oct  4 15:51 20181004-154820-deploycontainer.json\r\n",
      "-rw-rw-rw- 1 mysql mysql 277 Oct  4 15:57 20181004-155454-deploycontainer.json\r\n"
     ]
    }
   ],
   "source": [
    "# check if file has been created\n",
    "# many json files... this is a good opportunity to see if the code picks the right json file\n",
    "\n",
    "! docker exec fb554a3f8e6b  sudo ls -ltr /var/lib/mysql-files/"
   ]
  },
  {
   "cell_type": "code",
   "execution_count": 114,
   "metadata": {},
   "outputs": [
    {
     "name": "stdout",
     "output_type": "stream",
     "text": [
      "{\"bridge\": \"test_bridge\", \"master\": \"dev-h2o01\", \"minion2\": \"10.101.12.199\", \"service\": \"zookeeper\", \"amountgb\": \"1G\", \"porthost\": \"2184\", \"tagimage\": \"h21\", \"namecontainer\": \"zo3zo3\", \"portcontainer\": \"2181\", \"containerimage\": \"zookipian\", \"containerIPstatic\": \"172.19.0.21\"}\r\n"
     ]
    }
   ],
   "source": [
    "### check if json configuration file contains all inserted values\n",
    "\n",
    "! docker exec fb554a3f8e6b sudo cat /var/lib/mysql-files/20181004-155454-deploycontainer.json"
   ]
  },
  {
   "cell_type": "code",
   "execution_count": 92,
   "metadata": {},
   "outputs": [
    {
     "name": "stdout",
     "output_type": "stream",
     "text": [
      "{\"bridge\": \"test_bridge\", \"master\": \"dev-h2o01\", \"minion2\": \"10.101.12.199\", \"service\": \"zookeeper\", \"amountgb\": \"1G\", \"porthost\": \"2184\", \"tagimage\": \"h21\", \"namecontainer\": \"zo3zo3\", \"portcontainer\": \"2181\", \"containerimage\": \"zookipian\", \"containerIPstatic\": \"172.19.0.21\"}\r\n"
     ]
    }
   ],
   "source": [
    "### check if json conf. file is on master host\n",
    "\n",
    "! cat /opt/local_test/20181004-155454-deploycontainer.json"
   ]
  },
  {
   "cell_type": "code",
   "execution_count": 93,
   "metadata": {},
   "outputs": [
    {
     "name": "stdout",
     "output_type": "stream",
     "text": [
      "6aa9fdcb364b        zookipian:h21       \"/bin/bash\"         2 minutes ago       Up 2 minutes        0.0.0.0:2224->22/tcp, 0.0.0.0:2184->2181/tcp   zo3zo3\r\n"
     ]
    }
   ],
   "source": [
    "# check the creation of container on remote host\n",
    "\n",
    "! ssh tron@10.101.12.199 'docker ps | grep zo3zo3'"
   ]
  },
  {
   "cell_type": "code",
   "execution_count": 94,
   "metadata": {},
   "outputs": [
    {
     "name": "stdout",
     "output_type": "stream",
     "text": [
      "zookipian           h21                 89f1e835ae15        2 days ago          1.09 GB\r\n"
     ]
    }
   ],
   "source": [
    "# check creation of image on remote host\n",
    "\n",
    "! ssh tron@10.101.12.199 'docker images | grep zookipian' \n",
    "\n",
    "# this is related to a previous image (because I have used the same Dockerfile)\n",
    "# but you can see that the images has been created with the specified details"
   ]
  },
  {
   "cell_type": "code",
   "execution_count": 101,
   "metadata": {},
   "outputs": [
    {
     "name": "stdout",
     "output_type": "stream",
     "text": [
      "zo3zo3\t10.101.12.199\t172.19.0.21\r\n"
     ]
    }
   ],
   "source": [
    "### check if details have been sent to tablespace for future configurations (service communication..etc)\n",
    "\n",
    "! docker exec fb554a3f8e6b mysql  -e  \"use fields1 ; select * from fields1 where namecontainer='zo3zo3';\" \\\n",
    "-uroot -pabc123  2>/dev/null | awk 'NR==2' "
   ]
  },
  {
   "cell_type": "code",
   "execution_count": 103,
   "metadata": {},
   "outputs": [
    {
     "name": "stdout",
     "output_type": "stream",
     "text": [
      "\r\n",
      "Host 172.19.0.21 \r\n",
      "  User tron \r\n",
      "  ForwardAgent yes \r\n",
      "  ProxyCommand ssh -A tron@10.101.12.199 -q -W  %h:%p \r\n",
      "\r\n"
     ]
    }
   ],
   "source": [
    "### check ssh config\n",
    "\n",
    "! cat /home/tron/.ssh/config | tail -6"
   ]
  },
  {
   "cell_type": "code",
   "execution_count": 106,
   "metadata": {},
   "outputs": [
    {
     "name": "stdout",
     "output_type": "stream",
     "text": [
      "6aa9fdcb364b\r\n",
      "LICENSE.txt\r\n",
      "NOTICE.txt\r\n",
      "README.txt\r\n",
      "README_packaging.txt\r\n",
      "bin\r\n",
      "build.xml\r\n",
      "conf\r\n",
      "contrib\r\n",
      "dist-maven\r\n",
      "docs\r\n",
      "ivy.xml\r\n",
      "ivysettings.xml\r\n",
      "lib\r\n",
      "recipes\r\n",
      "src\r\n",
      "zookeeper-3.4.10.jar\r\n",
      "zookeeper-3.4.10.jar.asc\r\n",
      "zookeeper-3.4.10.jar.md5\r\n",
      "zookeeper-3.4.10.jar.sha1\r\n"
     ]
    }
   ],
   "source": [
    "### check if you can connect without password from master host \n",
    "### to the container from remote host\n",
    "### after login in, print hostname, \n",
    "### and list the content of /opt folder and whatever starts with zo- under that folder\n",
    "\n",
    "### i might try an expect/tcl approach for that ssh first connection... \n",
    "\n",
    "! ssh  -o \"StrictHostKeyChecking no\" tron@172.19.0.21 'hostname; ls /opt/zo*'"
   ]
  },
  {
   "cell_type": "code",
   "execution_count": null,
   "metadata": {},
   "outputs": [],
   "source": []
  }
 ],
 "metadata": {
  "kernelspec": {
   "display_name": "Python 3",
   "language": "python",
   "name": "python3"
  },
  "language_info": {
   "codemirror_mode": {
    "name": "ipython",
    "version": 3
   },
   "file_extension": ".py",
   "mimetype": "text/x-python",
   "name": "python",
   "nbconvert_exporter": "python",
   "pygments_lexer": "ipython3",
   "version": "3.5.2"
  }
 },
 "nbformat": 4,
 "nbformat_minor": 2
}
